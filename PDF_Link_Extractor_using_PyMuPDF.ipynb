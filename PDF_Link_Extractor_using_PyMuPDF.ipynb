{
  "nbformat": 4,
  "nbformat_minor": 0,
  "metadata": {
    "colab": {
      "provenance": [],
      "authorship_tag": "ABX9TyMstRPhsCieb/T3lYllNh7f",
      "include_colab_link": true
    },
    "kernelspec": {
      "name": "python3",
      "display_name": "Python 3"
    },
    "language_info": {
      "name": "python"
    }
  },
  "cells": [
    {
      "cell_type": "markdown",
      "metadata": {
        "id": "view-in-github",
        "colab_type": "text"
      },
      "source": [
        "<a href=\"https://colab.research.google.com/github/Gayuoff/PDF_link_extractor/blob/main/PDF_Link_Extractor_using_PyMuPDF.ipynb\" target=\"_parent\"><img src=\"https://colab.research.google.com/assets/colab-badge.svg\" alt=\"Open In Colab\"/></a>"
      ]
    },
    {
      "cell_type": "code",
      "execution_count": 1,
      "metadata": {
        "colab": {
          "base_uri": "https://localhost:8080/"
        },
        "id": "yPeL8hLfiNGL",
        "outputId": "dfaa13a2-a4ab-4359-c8c0-5ee78fccd495"
      },
      "outputs": [
        {
          "output_type": "stream",
          "name": "stdout",
          "text": [
            "Collecting pymupdf\n",
            "  Downloading pymupdf-1.26.3-cp39-abi3-manylinux_2_28_x86_64.whl.metadata (3.4 kB)\n",
            "Downloading pymupdf-1.26.3-cp39-abi3-manylinux_2_28_x86_64.whl (24.1 MB)\n",
            "\u001b[2K   \u001b[90m━━━━━━━━━━━━━━━━━━━━━━━━━━━━━━━━━━━━━━━━\u001b[0m \u001b[32m24.1/24.1 MB\u001b[0m \u001b[31m28.6 MB/s\u001b[0m eta \u001b[36m0:00:00\u001b[0m\n",
            "\u001b[?25hInstalling collected packages: pymupdf\n",
            "Successfully installed pymupdf-1.26.3\n"
          ]
        }
      ],
      "source": [
        "!pip install pymupdf"
      ]
    },
    {
      "cell_type": "code",
      "source": [
        "import fitz\n",
        "import re\n",
        "import pandas as pd\n"
      ],
      "metadata": {
        "id": "PEBeoOvWiZdx"
      },
      "execution_count": 20,
      "outputs": []
    },
    {
      "cell_type": "code",
      "source": [
        "pdf_path= \"/content/Gayu_RESUME.pdf\"\n",
        "doc = fitz.open(pdf_path)\n",
        "print(len(doc))\n",
        "\n",
        "page= doc.load_page(1)\n",
        "links= page.get_links()\n",
        "print(links)"
      ],
      "metadata": {
        "colab": {
          "base_uri": "https://localhost:8080/"
        },
        "id": "I1FbKpcnik_X",
        "outputId": "de2e70c6-df9d-4c46-e9cc-325b17e905e2"
      },
      "execution_count": 22,
      "outputs": [
        {
          "output_type": "stream",
          "name": "stdout",
          "text": [
            "2\n",
            "[{'kind': 2, 'xref': 28, 'from': Rect(93.11082458496094, 129.77978515625, 248.4193572998047, 141.7843017578125), 'uri': 'https://drive.google.com/file/d/1vjiTSQY0-MjPfa1fIYklPtG7Fa-6pKQi/view?usp=drive_link', 'id': ''}, {'kind': 2, 'xref': 29, 'from': Rect(81.85659790039062, 146.2860107421875, 111.86790466308594, 158.29046630859375), 'uri': 'https://drive.google.com/file/d/1f246DSf_lRt4tdCdHHAH-BM0X1l0L3a5/view?usp=drive_link', 'id': ''}, {'kind': 2, 'xref': 30, 'from': Rect(111.86790466308594, 146.2860107421875, 114.86903381347656, 158.29046630859375), 'uri': 'https://drive.google.com/file/d/1f246DSf_lRt4tdCdHHAH-BM0X1l0L3a5/view?usp=drive_link', 'id': ''}, {'kind': 2, 'xref': 31, 'from': Rect(114.86903381347656, 146.2860107421875, 246.91880798339844, 158.29046630859375), 'uri': 'https://drive.google.com/file/d/1f246DSf_lRt4tdCdHHAH-BM0X1l0L3a5/view?usp=drive_link', 'id': ''}, {'kind': 2, 'xref': 32, 'from': Rect(67.6012191772461, 162.79217529296875, 228.16171264648438, 174.79669189453125), 'uri': 'https://drive.google.com/file/d/1qqorcaAvyJ5XlqNaB7XMDTMC_l8tH3lX/view?usp=drive_link', 'id': ''}, {'kind': 2, 'xref': 33, 'from': Rect(78.85546875, 195.80462646484375, 482.507568359375, 207.80914306640625), 'uri': 'https://drive.google.com/file/d/1F47OCAMn6iWCZKhInMkkyzoyxbv-ZXir/view?usp=drive_link', 'id': ''}, {'kind': 2, 'xref': 34, 'from': Rect(146.3809051513672, 228.81707763671875, 257.4227600097656, 240.82159423828125), 'uri': 'https://drive.google.com/file/d/1kMeDh7IO9ddCp4J_5ukw3ghHKq9cWRpT/view?usp=drive_link', 'id': ''}]\n"
          ]
        }
      ]
    },
    {
      "cell_type": "code",
      "source": [
        "visible_text_links = set()\n",
        "embedded_links = set()\n",
        "\n",
        "for page in doc:\n",
        "    text = page.get_text()\n",
        "    found_text_links = re.findall(r'https?://\\S+|www\\.\\S+', text)\n",
        "    visible_text_links.update(found_text_links)\n",
        "\n",
        "\n",
        "    for link in page.get_links():\n",
        "        uri = link.get(\"uri\", None)\n",
        "        if uri:\n",
        "            embedded_links.add(uri)\n",
        "\n",
        "\n",
        "all_links = visible_text_links.union(embedded_links)\n"
      ],
      "metadata": {
        "id": "W_BsahO7jBpm"
      },
      "execution_count": 23,
      "outputs": []
    },
    {
      "cell_type": "code",
      "source": [
        "print(f\"Total unique links found: {len(all_links)}\")\n",
        "print(f\"Text-visible URLs: {len(visible_text_links)}\")\n",
        "print(f\"Embedded hyperlinks: {len(embedded_links)}\")"
      ],
      "metadata": {
        "colab": {
          "base_uri": "https://localhost:8080/"
        },
        "id": "EaTT6KkyjXL0",
        "outputId": "9c6bf5c1-b00b-41aa-93a5-c05538081b0b"
      },
      "execution_count": 24,
      "outputs": [
        {
          "output_type": "stream",
          "name": "stdout",
          "text": [
            "Total unique links found: 11\n",
            "Text-visible URLs: 3\n",
            "Embedded hyperlinks: 8\n"
          ]
        }
      ]
    },
    {
      "cell_type": "code",
      "source": [
        "df = pd.DataFrame(sorted(all_links), columns=[\"Extracted Links\"])\n",
        "df.to_csv(\"extracted_links_pymupdf.csv\", index=False)\n",
        "files.download(\"extracted_links_pymupdf.csv\")"
      ],
      "metadata": {
        "colab": {
          "base_uri": "https://localhost:8080/",
          "height": 17
        },
        "id": "TRsQjg9sk-SC",
        "outputId": "1ca35d63-b849-49d9-e3fe-516dadb9ff1a"
      },
      "execution_count": 25,
      "outputs": [
        {
          "output_type": "display_data",
          "data": {
            "text/plain": [
              "<IPython.core.display.Javascript object>"
            ],
            "application/javascript": [
              "\n",
              "    async function download(id, filename, size) {\n",
              "      if (!google.colab.kernel.accessAllowed) {\n",
              "        return;\n",
              "      }\n",
              "      const div = document.createElement('div');\n",
              "      const label = document.createElement('label');\n",
              "      label.textContent = `Downloading \"${filename}\": `;\n",
              "      div.appendChild(label);\n",
              "      const progress = document.createElement('progress');\n",
              "      progress.max = size;\n",
              "      div.appendChild(progress);\n",
              "      document.body.appendChild(div);\n",
              "\n",
              "      const buffers = [];\n",
              "      let downloaded = 0;\n",
              "\n",
              "      const channel = await google.colab.kernel.comms.open(id);\n",
              "      // Send a message to notify the kernel that we're ready.\n",
              "      channel.send({})\n",
              "\n",
              "      for await (const message of channel.messages) {\n",
              "        // Send a message to notify the kernel that we're ready.\n",
              "        channel.send({})\n",
              "        if (message.buffers) {\n",
              "          for (const buffer of message.buffers) {\n",
              "            buffers.push(buffer);\n",
              "            downloaded += buffer.byteLength;\n",
              "            progress.value = downloaded;\n",
              "          }\n",
              "        }\n",
              "      }\n",
              "      const blob = new Blob(buffers, {type: 'application/binary'});\n",
              "      const a = document.createElement('a');\n",
              "      a.href = window.URL.createObjectURL(blob);\n",
              "      a.download = filename;\n",
              "      div.appendChild(a);\n",
              "      a.click();\n",
              "      div.remove();\n",
              "    }\n",
              "  "
            ]
          },
          "metadata": {}
        },
        {
          "output_type": "display_data",
          "data": {
            "text/plain": [
              "<IPython.core.display.Javascript object>"
            ],
            "application/javascript": [
              "download(\"download_7c2dd81a-426b-4e9c-ab5f-a09dc6e49864\", \"extracted_links_pymupdf.csv\", 674)"
            ]
          },
          "metadata": {}
        }
      ]
    }
  ]
}